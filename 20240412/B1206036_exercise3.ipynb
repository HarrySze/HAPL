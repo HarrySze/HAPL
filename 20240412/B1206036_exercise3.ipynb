{
  "nbformat": 4,
  "nbformat_minor": 0,
  "metadata": {
    "colab": {
      "provenance": []
    },
    "kernelspec": {
      "name": "python3",
      "display_name": "Python 3"
    },
    "language_info": {
      "name": "python"
    }
  },
  "cells": [
    {
      "cell_type": "code",
      "execution_count": null,
      "metadata": {
        "colab": {
          "base_uri": "https://localhost:8080/"
        },
        "id": "NIx4llBA0Lqs",
        "outputId": "729aacde-9182-4a80-9cff-82eba60abfd2"
      },
      "outputs": [
        {
          "output_type": "stream",
          "name": "stdout",
          "text": [
            "身高(cm):175\n",
            "體重(kg):70.4375\n",
            "BMI: 23.0\n",
            "體位:適中\n"
          ]
        }
      ],
      "source": [
        "a=float(input('''身高(cm):'''))\n",
        "b=float(input('''體重(kg):'''))\n",
        "b/=((a/100)**2)\n",
        "print(\"BMI:\",b)\n",
        "if b<18.5:\n",
        "  print('體位:過輕')\n",
        "elif b<24:\n",
        "  print('體位:適中')\n",
        "elif b<27:\n",
        "  print('體位:過重')\n",
        "elif b>=27:\n",
        "  print('體位:肥胖')"
      ]
    },
    {
      "cell_type": "code",
      "source": [
        "a=float(input('''請輸入第一個數字:'''))\n",
        "b=input('''請輸入運算符號:''')\n",
        "c=float(input('''請輸入第二個數字:'''))\n",
        "if b=='+':\n",
        "  print(a+c)\n",
        "elif b=='-':\n",
        "  print(a-c)\n",
        "elif b=='*':\n",
        "  print(a*c)\n",
        "elif b=='/':\n",
        "  print(a/c)"
      ],
      "metadata": {
        "colab": {
          "base_uri": "https://localhost:8080/"
        },
        "id": "-NBj-QGR4e73",
        "outputId": "8288c7a6-1ba7-4f67-a4d6-80eceaa731c0"
      },
      "execution_count": null,
      "outputs": [
        {
          "output_type": "stream",
          "name": "stdout",
          "text": [
            "請輸入第一個數字:2\n",
            "請輸入運算符號:+\n",
            "請輸入第二個數字:3\n",
            "5.0\n"
          ]
        }
      ]
    }
  ]
}
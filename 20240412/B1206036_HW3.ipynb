{
  "nbformat": 4,
  "nbformat_minor": 0,
  "metadata": {
    "colab": {
      "provenance": []
    },
    "kernelspec": {
      "name": "python3",
      "display_name": "Python 3"
    },
    "language_info": {
      "name": "python"
    }
  },
  "cells": [
    {
      "cell_type": "code",
      "execution_count": 22,
      "metadata": {
        "id": "QBaMoZlE14qb",
        "colab": {
          "base_uri": "https://localhost:8080/"
        },
        "outputId": "6f877c11-5e80-452f-a45b-9d47d49b93ce"
      },
      "outputs": [
        {
          "output_type": "stream",
          "name": "stdout",
          "text": [
            "輸入年份:1700\n",
            "1700 是平年\n"
          ]
        }
      ],
      "source": [
        "a=int(input('''輸入年份:'''))\n",
        "if a<=1582:\n",
        "  if a%4==0:\n",
        "    print(a,'是閏年')\n",
        "  else:\n",
        "    print(a,'是平年')\n",
        "else:\n",
        "  if a%4==0 and ( a%100!=0 or a%400==0 ) :\n",
        "    print(a,'是閏年')\n",
        "  else:\n",
        "    print(a,'是平年')"
      ]
    }
  ]
}
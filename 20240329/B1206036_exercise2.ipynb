{
  "nbformat": 4,
  "nbformat_minor": 0,
  "metadata": {
    "colab": {
      "provenance": []
    },
    "kernelspec": {
      "name": "python3",
      "display_name": "Python 3"
    },
    "language_info": {
      "name": "python"
    }
  },
  "cells": [
    {
      "cell_type": "code",
      "execution_count": 16,
      "metadata": {
        "colab": {
          "base_uri": "https://localhost:8080/"
        },
        "id": "rh0MfwlmwOyS",
        "outputId": "71879453-ef63-48a3-97a4-68cf5e1609f0"
      },
      "outputs": [
        {
          "output_type": "stream",
          "name": "stdout",
          "text": [
            "{'姓名': '賴宏偉', '性別': '男', '作業分數': [100, 100, 90], '學號': 'M1129020'}\n",
            "96.66666666666667\n"
          ]
        }
      ],
      "source": [
        "a = {'姓名':'賴宏偉','性別':'男','作業分數':[80,95,100,90]}\n",
        "a['學號'] = 'M1129020'\n",
        "a['作業分數'][1]= 100\n",
        "del a['作業分數'][0]\n",
        "print(a)\n",
        "b = a['作業分數'][0]\n",
        "c = a['作業分數'][1]\n",
        "d = a['作業分數'][2]\n",
        "e = ((b+c+d)/3)\n",
        "print(e)"
      ]
    }
  ]
}
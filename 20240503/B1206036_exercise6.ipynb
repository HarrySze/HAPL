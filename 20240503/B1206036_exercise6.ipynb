{
  "nbformat": 4,
  "nbformat_minor": 0,
  "metadata": {
    "colab": {
      "provenance": []
    },
    "kernelspec": {
      "name": "python3",
      "display_name": "Python 3"
    },
    "language_info": {
      "name": "python"
    }
  },
  "cells": [
    {
      "cell_type": "code",
      "execution_count": null,
      "metadata": {
        "colab": {
          "base_uri": "https://localhost:8080/"
        },
        "id": "M4qEXL3FTx_Y",
        "outputId": "dbc48564-e66f-4da4-d27a-a963c1b01789"
      },
      "outputs": [
        {
          "output_type": "stream",
          "name": "stdout",
          "text": [
            "請輸入聖誕樹高度(至少七層以上):9\n",
            "        *\n",
            "       ***\n",
            "      *****\n",
            "     *******\n",
            "    *********\n",
            "   ***********\n",
            "  *************\n",
            " ***************\n",
            "*****************\n",
            "       ***\n",
            "       ***\n",
            "       ***\n",
            "       ***\n",
            "       ***\n"
          ]
        }
      ],
      "source": [
        "def tree(height):\n",
        "  if height < 7:\n",
        "    print ('請輸入至少七層以上')\n",
        "    return\n",
        "  for i in range (1, height + 1):\n",
        "    print(' ' * (height - i) + '*' * (2 * i - 1) )\n",
        "  for o in range (5):\n",
        "    print(' ' * (height - 2) + '***')\n",
        "height = int(input('請輸入聖誕樹高度(至少七層以上):'))\n",
        "tree(height)"
      ]
    },
    {
      "cell_type": "code",
      "source": [
        "8def BMI (kg,cm):\n",
        "  BMI = kg/(cm/100)**2\n",
        "  return BMI\n",
        "try:\n",
        "  cm = float(input('身高(公分):'))\n",
        "  kg = float(input('體重(公斤):'))\n",
        "  BMI = kg/(cm/100)**2\n",
        "  print('BMI:',BMI)\n",
        "  if BMI<18.5:\n",
        "    print('體位:過輕')\n",
        "  elif BMI<24:\n",
        "    print('體位:適中')\n",
        "  elif BMI<27:\n",
        "    print('體位:過重')\n",
        "  else:\n",
        "    print('體位:肥胖')\n",
        "except:\n",
        "  print('輸入內容錯誤')"
      ],
      "metadata": {
        "id": "8s2Ht6LbY7GL",
        "colab": {
          "base_uri": "https://localhost:8080/"
        },
        "outputId": "d01dbee6-5012-4136-c96f-0fe5452a9821"
      },
      "execution_count": 23,
      "outputs": [
        {
          "output_type": "stream",
          "name": "stdout",
          "text": [
            "身高(公分):171\n",
            "體重(公斤):80\n",
            "BMI: 27.358845456721728\n",
            "體位:肥胖\n"
          ]
        }
      ]
    }
  ]
}
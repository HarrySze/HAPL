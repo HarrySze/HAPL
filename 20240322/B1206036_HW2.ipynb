{
  "nbformat": 4,
  "nbformat_minor": 0,
  "metadata": {
    "colab": {
      "provenance": []
    },
    "kernelspec": {
      "name": "python3",
      "display_name": "Python 3"
    },
    "language_info": {
      "name": "python"
    }
  },
  "cells": [
    {
      "cell_type": "code",
      "execution_count": 39,
      "metadata": {
        "colab": {
          "base_uri": "https://localhost:8080/"
        },
        "id": "LXlLLSJAtcvI",
        "outputId": "6ec9c60b-995c-4777-d3d3-13eb060c3492"
      },
      "outputs": [
        {
          "output_type": "stream",
          "name": "stdout",
          "text": [
            "A\n",
            "['K', 'H', 'U']\n"
          ]
        }
      ],
      "source": [
        "a = 'C,B,A'\n",
        "b = ['F','G','H']\n",
        "c = a.split(',')\n",
        "d = c+b\n",
        "d[0]='K'\n",
        "e = d.pop(2)\n",
        "print(e)\n",
        "del d[1:4]\n",
        "d.append('U')\n",
        "print(d)"
      ]
    },
    {
      "cell_type": "code",
      "source": [
        "a = input('輸入一個八位數的數字')\n",
        "print('第五個數字：',a[4])"
      ],
      "metadata": {
        "id": "c_9FVzjw5vBD",
        "colab": {
          "base_uri": "https://localhost:8080/"
        },
        "outputId": "61e66c37-27b1-45a1-f01a-8d4792a720f1"
      },
      "execution_count": 40,
      "outputs": [
        {
          "output_type": "stream",
          "name": "stdout",
          "text": [
            "輸入一個八位數的數字12345678\n",
            "第五個數字： 5\n"
          ]
        }
      ]
    },
    {
      "cell_type": "code",
      "source": [
        "a = 'My ID is B1206036'\n",
        "b = a.split(' ')\n",
        "print('字數：',len(b))\n",
        "print('元素數目：',len(b[3]))"
      ],
      "metadata": {
        "colab": {
          "base_uri": "https://localhost:8080/"
        },
        "id": "GWaLvqfEiMrj",
        "outputId": "d1077758-d993-4dc4-a51e-cccad55fb06a"
      },
      "execution_count": 41,
      "outputs": [
        {
          "output_type": "stream",
          "name": "stdout",
          "text": [
            "字數： 4\n",
            "元素數目： 8\n"
          ]
        }
      ]
    },
    {
      "cell_type": "code",
      "source": [
        "a = \"I'm a student\"\n",
        "b = a.split(\"'\")\n",
        "c = b[1]\n",
        "d = c.split(' ')\n",
        "print(d[0])"
      ],
      "metadata": {
        "colab": {
          "base_uri": "https://localhost:8080/"
        },
        "id": "jT7VmQw0kWIX",
        "outputId": "9b145cf4-8b69-4650-dd4d-993a73a46bb7"
      },
      "execution_count": 42,
      "outputs": [
        {
          "output_type": "stream",
          "name": "stdout",
          "text": [
            "m\n"
          ]
        }
      ]
    }
  ]
}
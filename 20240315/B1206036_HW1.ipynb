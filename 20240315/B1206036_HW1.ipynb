{
  "nbformat": 4,
  "nbformat_minor": 0,
  "metadata": {
    "colab": {
      "provenance": []
    },
    "kernelspec": {
      "name": "python3",
      "display_name": "Python 3"
    },
    "language_info": {
      "name": "python"
    }
  },
  "cells": [
    {
      "cell_type": "code",
      "execution_count": 1,
      "metadata": {
        "colab": {
          "base_uri": "https://localhost:8080/"
        },
        "id": "pL0hVJQTrGnF",
        "outputId": "a61358b4-1ff6-49a4-88c6-cb7226d126bc"
      },
      "outputs": [
        {
          "output_type": "stream",
          "name": "stdout",
          "text": [
            "I'm a student\n"
          ]
        }
      ],
      "source": [
        "print(\"I'm a student\")"
      ]
    },
    {
      "cell_type": "code",
      "source": [
        "a=float(input('''輸入座標A(x1,y1):\n",
        "x1='''))\n",
        "b=float(input('''輸入座標A(x1,y1):\n",
        "y1='''))\n",
        "c=float(input('''輸入座標B(x2,y2):\n",
        "x2='''))\n",
        "d=float(input('''輸入座標B(x2,y2):\n",
        "y2='''))\n",
        "z=((a-c)**2+(b-d)**2)**0.5\n",
        "print(\"AB間的距離:\",z)"
      ],
      "metadata": {
        "colab": {
          "base_uri": "https://localhost:8080/"
        },
        "id": "b-PhCsQ9rcNX",
        "outputId": "e79ebefd-8af8-4444-d9de-acec9ae4f7b5"
      },
      "execution_count": 15,
      "outputs": [
        {
          "output_type": "stream",
          "name": "stdout",
          "text": [
            "輸入座標A(x1,y1):\n",
            "x1=0\n",
            "輸入座標A(x1,y1):\n",
            "y1=0\n",
            "輸入座標B(x2,y2):\n",
            "x2=5\n",
            "輸入座標B(x2,y2):\n",
            "y2=5\n",
            "AB間的距離: 7.0710678118654755\n"
          ]
        }
      ]
    },
    {
      "cell_type": "code",
      "source": [
        "a=float(input('''身高(cm):'''))\n",
        "b=float(input('''體重(kg):'''))\n",
        "b/=((a/100)**2)\n",
        "print(\"BMI:\",b)"
      ],
      "metadata": {
        "colab": {
          "base_uri": "https://localhost:8080/"
        },
        "id": "CO0zHRTSsmgg",
        "outputId": "686a3cbc-04d5-4060-c838-a015070e7aa1"
      },
      "execution_count": 22,
      "outputs": [
        {
          "output_type": "stream",
          "name": "stdout",
          "text": [
            "身高(cm):190\n",
            "體重(kg):80\n",
            "BMI: 22.1606648199446\n"
          ]
        }
      ]
    }
  ]
}
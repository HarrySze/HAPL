{
  "nbformat": 4,
  "nbformat_minor": 0,
  "metadata": {
    "colab": {
      "provenance": []
    },
    "kernelspec": {
      "name": "python3",
      "display_name": "Python 3"
    },
    "language_info": {
      "name": "python"
    }
  },
  "cells": [
    {
      "cell_type": "code",
      "source": [
        "a = 1\n",
        "while a <= 9:\n",
        "  b = 1\n",
        "  while b <= 9:\n",
        "    c = a * b\n",
        "    print(f'{b}x{a}={c:<2d}',end='   ')\n",
        "    b += 1\n",
        "    if b == 10:\n",
        "      print()\n",
        "  a += 1"
      ],
      "metadata": {
        "colab": {
          "base_uri": "https://localhost:8080/"
        },
        "id": "KipJniGa5GDD",
        "outputId": "e83dc6a8-f74d-4c21-e397-b99754776b19"
      },
      "execution_count": null,
      "outputs": [
        {
          "output_type": "stream",
          "name": "stdout",
          "text": [
            "1x1=1    2x1=2    3x1=3    4x1=4    5x1=5    6x1=6    7x1=7    8x1=8    9x1=9    \n",
            "1x2=2    2x2=4    3x2=6    4x2=8    5x2=10   6x2=12   7x2=14   8x2=16   9x2=18   \n",
            "1x3=3    2x3=6    3x3=9    4x3=12   5x3=15   6x3=18   7x3=21   8x3=24   9x3=27   \n",
            "1x4=4    2x4=8    3x4=12   4x4=16   5x4=20   6x4=24   7x4=28   8x4=32   9x4=36   \n",
            "1x5=5    2x5=10   3x5=15   4x5=20   5x5=25   6x5=30   7x5=35   8x5=40   9x5=45   \n",
            "1x6=6    2x6=12   3x6=18   4x6=24   5x6=30   6x6=36   7x6=42   8x6=48   9x6=54   \n",
            "1x7=7    2x7=14   3x7=21   4x7=28   5x7=35   6x7=42   7x7=49   8x7=56   9x7=63   \n",
            "1x8=8    2x8=16   3x8=24   4x8=32   5x8=40   6x8=48   7x8=56   8x8=64   9x8=72   \n",
            "1x9=9    2x9=18   3x9=27   4x9=36   5x9=45   6x9=54   7x9=63   8x9=72   9x9=81   \n"
          ]
        }
      ]
    },
    {
      "cell_type": "code",
      "source": [
        "import random\n",
        "ans=random.sample(range(1, 10), 4)\n",
        "print('答案 :',ans)\n",
        "a=b=n=0\n",
        "num=0\n",
        "while True:\n",
        "  a=b=n=0\n",
        "  x = input('輸⼊四個數字(不會重複):')\n",
        "  if len(x) != 4:\n",
        "    print('輸入數字過多，請輸入四個數字（不會重複）')\n",
        "    continue\n",
        "  num += 1\n",
        "  for i in x:\n",
        "    if int(x[n])==ans[n]:\n",
        "      a += 1\n",
        "    else:\n",
        "      if int(i) in ans:\n",
        "        b += 1\n",
        "    n += 1\n",
        "  print(f'{x}:{a}A{b}B')\n",
        "  if a == 4:\n",
        "    print(f'答對了！總共猜了{num}次')\n",
        "    break"
      ],
      "metadata": {
        "colab": {
          "base_uri": "https://localhost:8080/"
        },
        "id": "kD8D4_wrzImg",
        "outputId": "68cd315e-f7fe-4952-b4de-3de4ffcff0a2"
      },
      "execution_count": 25,
      "outputs": [
        {
          "output_type": "stream",
          "name": "stdout",
          "text": [
            "答案 : [3, 5, 7, 8]\n",
            "輸⼊四個數字(不會重複):12345\n",
            "輸入數字過多，請輸入四個數字（不會重複）\n",
            "輸⼊四個數字(不會重複):1234\n",
            "1234:0A1B\n",
            "輸⼊四個數字(不會重複):2345\n",
            "2345:0A2B\n",
            "輸⼊四個數字(不會重複):3479\n",
            "3479:2A0B\n",
            "輸⼊四個數字(不會重複):3578\n",
            "3578:4A0B\n",
            "答對了！總共猜了4次\n"
          ]
        }
      ]
    }
  ]
}